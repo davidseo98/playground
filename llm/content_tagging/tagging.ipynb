{
 "cells": [
  {
   "cell_type": "code",
   "execution_count": 5,
   "metadata": {},
   "outputs": [],
   "source": [
    "tags = [\n",
    "    \"Action\",\n",
    "    \"Adventure\",\n",
    "    \"Science Fiction\",\n",
    "    \"Thriller\",\n",
    "    \"Fantasy\",\n",
    "    \"Classic\",\n",
    "    \"Comic Book\",\n",
    "    \"Superhero\",\n",
    "    \"Crime\",\n",
    "    \"Foreign\",\n",
    "    \"Hijacking\",\n",
    "    \"Martial arts\",\n",
    "    \"Military and War\",\n",
    "    \"Spy\",\n",
    "    \"Westerns\",\n",
    "    \"Animation\",\n",
    "    \"Drama\",\n",
    "    \"Horror\",\n",
    "    \"Series\",\n",
    "    \"Children\",\n",
    "    \"Family\",\n",
    "    \"Education\",\n",
    "    \"Music\",\n",
    "    \"Christmas\",\n",
    "    \"Romance\",\n",
    "    \"Politic\",\n",
    "    \"Teen\",\n",
    "    \"Biography\",\n",
    "    \"Documentary\",\n",
    "    \"Religion\",\n",
    "    \"Travel\",\n",
    "    \"Sports\",\n",
    "    \"Cult\",\n",
    "    \"Slasher and Serial Killer\",\n",
    "    \"Supernatural\",\n",
    "    \"LGBTQ\",\n",
    "    \"Dance\",\n",
    "    \"Alien\",\n",
    "    \"Monster\"\n",
    "]\n",
    "\n",
    "tag_string = \", \".join(tags)"
   ]
  },
  {
   "cell_type": "code",
   "execution_count": 6,
   "metadata": {},
   "outputs": [
    {
     "data": {
      "text/plain": [
       "'Action, Adventure, Science Fiction, Thriller, Fantasy, Classic, Comic Book, Superhero, Crime, Foreign, Hijacking, Martial arts, Military and War, Spy, Westerns, Animation, Drama, Horror, Series, Children, Family, Education, Music, Christmas, Romance, Politic, Teen, Biography, Documentary, Religion, Travel, Sports, Cult, Slasher and Serial Killer, Supernatural, LGBTQ, Dance, Alien, Monster'"
      ]
     },
     "execution_count": 6,
     "metadata": {},
     "output_type": "execute_result"
    }
   ],
   "source": [
    "tag_string"
   ]
  },
  {
   "cell_type": "code",
   "execution_count": 16,
   "metadata": {},
   "outputs": [],
   "source": [
    "with open(\"./content_list.txt\", \"r\") as file:\n",
    "    movie_list = file.readlines()"
   ]
  },
  {
   "cell_type": "code",
   "execution_count": null,
   "metadata": {},
   "outputs": [],
   "source": [
    "from openai import OpenAI\n",
    "\n",
    "# client 객체 생성하기\n",
    "client = OpenAI(api_key = \"your-api-key\") # 발급받은 API 키 값을 넣어주세요\n",
    "\n",
    "def get_tags(client, tag_string, movie_string):\n",
    "    #응답 받기\n",
    "    response = client.chat.completions.create(\n",
    "        model = \"gpt-4o-2024-11-20\",\n",
    "        messages =[\n",
    "            {\n",
    "                \"role\":\"system\",\n",
    "                \"content\":\"You are an excellent movie tagger. You will be given a list of tags, and a list of movies. Select the appropriate tags for each movie and format your Response\\\n",
    "                      in json format with the movie title as key, and the list of tags as values.\"\n",
    "            },\n",
    "            {\n",
    "                \"role\":\"user\",\n",
    "                \"content\":f\"\\\n",
    "                    Tag the movies that are given. I am going to give you the list of tags, and also the list of movies.\\\n",
    "                    A single movie can have more that one tag if necassary.\\\n",
    "                    Remeber, only include the tags that are relavant to the movie.\\\n",
    "                    tags : {tag_string}\\\n",
    "                    movies : {movie_string}\"\n",
    "            }\n",
    "        ],\n",
    "        temperature=0,\n",
    "        top_p = 0.1,\n",
    "        frequency_penalty = 0,\n",
    "        presence_penalty = 0,\n",
    "\n",
    "        # response_format 지정하기\n",
    "        response_format = {\"type\":\"json_object\"}\n",
    "    )\n",
    "\n",
    "    return response.choices[0].message.content"
   ]
  },
  {
   "cell_type": "code",
   "execution_count": 17,
   "metadata": {},
   "outputs": [
    {
     "data": {
      "text/plain": [
       "9186"
      ]
     },
     "execution_count": 17,
     "metadata": {},
     "output_type": "execute_result"
    }
   ],
   "source": [
    "len(movie_list)"
   ]
  },
  {
   "cell_type": "code",
   "execution_count": 37,
   "metadata": {},
   "outputs": [
    {
     "name": "stderr",
     "output_type": "stream",
     "text": [
      "100%|██████████| 92/92 [46:04<00:00, 30.04s/it]\n"
     ]
    }
   ],
   "source": [
    "import pickle\n",
    "import tqdm\n",
    "\n",
    "window = 100\n",
    "for start_idx in tqdm.tqdm(range(0, len(movie_list), window)):\n",
    "    movie_string = \", \".join(movie_list[start_idx:start_idx+window])\n",
    "    tags = get_tags(client, tag_string, movie_string)\n",
    "    \n",
    "    with open(f\"./result_{start_idx}.pk\", \"wb\") as file:\n",
    "        pickle.dump(tags, file) "
   ]
  },
  {
   "cell_type": "code",
   "execution_count": null,
   "metadata": {},
   "outputs": [],
   "source": [
    "import pickle\n"
   ]
  },
  {
   "cell_type": "code",
   "execution_count": 39,
   "metadata": {},
   "outputs": [],
   "source": [
    "with open(\"./result_100.pk\", \"rb\") as file:\n",
    "    data = pickle.load(file)"
   ]
  },
  {
   "cell_type": "code",
   "execution_count": 40,
   "metadata": {},
   "outputs": [
    {
     "data": {
      "text/plain": [
       "{'Pirates of the Caribbean: The Curse of the Black Pearl (2003)': ['Action',\n",
       "  'Adventure',\n",
       "  'Fantasy',\n",
       "  'Classic'],\n",
       " 'Treasure Planet (2002)': ['Adventure',\n",
       "  'Science Fiction',\n",
       "  'Animation',\n",
       "  'Family'],\n",
       " 'Sweet Home Alabama (2002)': ['Romance', 'Comedy', 'Drama'],\n",
       " 'The Princess Diaries (2001)': ['Teen', 'Family', 'Comedy', 'Romance'],\n",
       " 'Pearl Harbor (2001)': ['Military and War', 'Drama', 'Romance'],\n",
       " 'Remember the Titans (2000)': ['Sports', 'Drama', 'Biography'],\n",
       " 'Coyote Ugly (2000)': ['Romance', 'Music', 'Drama'],\n",
       " 'The Kid (2000)': ['Family', 'Comedy', 'Drama'],\n",
       " 'High Fidelity (2000)': ['Romance', 'Music', 'Comedy', 'Drama'],\n",
       " 'The Waterboy (1998)': ['Sports', 'Comedy', 'Family'],\n",
       " 'Armageddon (1998)': ['Action', 'Science Fiction', 'Thriller', 'Drama'],\n",
       " 'George of the Jungle (1997)': ['Comedy', 'Adventure', 'Family'],\n",
       " 'The Nightmare Before Christmas (1993)': ['Animation',\n",
       "  'Fantasy',\n",
       "  'Music',\n",
       "  'Christmas'],\n",
       " 'The Hand That Rocks The Cradle (1992)': ['Thriller', 'Drama'],\n",
       " 'Father of the Bride (1991)': ['Comedy', 'Family', 'Romance'],\n",
       " 'Cocktail (1988)': ['Romance', 'Drama', 'Music'],\n",
       " 'Good Morning, Vietnam (1987)': ['Comedy', 'Drama', 'Military and War'],\n",
       " 'Tron (1982)': ['Science Fiction', 'Adventure', 'Classic'],\n",
       " 'Up (2009)': ['Animation', 'Adventure', 'Family', 'Drama'],\n",
       " 'Surrogates (2009)': ['Science Fiction', 'Action', 'Thriller'],\n",
       " 'Old Dogs (2009)': ['Comedy', 'Family'],\n",
       " 'G-Force (2009)': ['Action', 'Adventure', 'Family', 'Comedy'],\n",
       " 'The Princess and the Frog (2009)': ['Animation',\n",
       "  'Fantasy',\n",
       "  'Family',\n",
       "  'Music'],\n",
       " 'Alice in Wonderland (2010)': ['Fantasy', 'Adventure', 'Family'],\n",
       " 'Prince of Persia: The Sands of Time (2010)': ['Action',\n",
       "  'Adventure',\n",
       "  'Fantasy'],\n",
       " 'Toy Story 3 (2010)': ['Animation', 'Adventure', 'Family', 'Comedy'],\n",
       " 'The Last Song (2010)': ['Romance', 'Drama', 'Music', 'Teen'],\n",
       " \"The Sorcerer's Apprentice (2010)\": ['Fantasy', 'Action', 'Adventure'],\n",
       " 'Tron: Legacy (2010)': ['Science Fiction', 'Action', 'Adventure'],\n",
       " 'Tangled (2010)': ['Animation', 'Fantasy', 'Family', 'Romance'],\n",
       " 'Harry Potter and the Deathly Hallows: Part 1 (2010)': ['Fantasy',\n",
       "  'Adventure',\n",
       "  'Drama'],\n",
       " 'Hereafter (2010)': ['Drama', 'Supernatural'],\n",
       " 'Life as We Know It (2010)': ['Romance', 'Comedy', 'Drama'],\n",
       " 'Jackass 3 (2010)': ['Comedy', 'Documentary'],\n",
       " 'Little Fockers (2010)': ['Comedy', 'Family'],\n",
       " 'Morning Glory (2010)': ['Comedy', 'Drama', 'Romance'],\n",
       " 'Tooth (2004)': ['Children', 'Fantasy', 'Family'],\n",
       " 'Yogi Bear (2010)': ['Animation', 'Comedy', 'Family'],\n",
       " 'Spread (2009)': ['Romance', 'Drama'],\n",
       " 'From Paris With Love (2010)': ['Action', 'Thriller', 'Spy'],\n",
       " 'Miss Potter (2006)': ['Biography', 'Drama', 'Romance'],\n",
       " 'The Green Hornet (2011)': ['Action', 'Comedy', 'Superhero'],\n",
       " 'Burlesque (2010)': ['Music', 'Drama', 'Romance'],\n",
       " 'The Other Guys (2010)': ['Comedy', 'Action', 'Crime'],\n",
       " 'The Social Network (2010)': ['Biography', 'Drama'],\n",
       " 'The Rebound (2009)': ['Romance', 'Comedy'],\n",
       " 'The Mechanic (2011)': ['Action', 'Thriller', 'Crime'],\n",
       " 'The Rite (2011)': ['Horror', 'Supernatural', 'Drama'],\n",
       " 'Absolute Power (1997)': ['Thriller', 'Crime', 'Drama'],\n",
       " 'Analyze This (1999)': ['Comedy', 'Crime'],\n",
       " 'Batman & Robin (1997)': ['Action', 'Superhero', 'Adventure'],\n",
       " 'Before Sunset (2004)': ['Romance', 'Drama'],\n",
       " 'The Bodyguard (1992)': ['Romance', 'Drama', 'Music'],\n",
       " 'Charlie And The Chocolate Factory (2005)': ['Fantasy',\n",
       "  'Family',\n",
       "  'Adventure'],\n",
       " 'Collateral Damage (2002)': ['Action', 'Thriller'],\n",
       " 'The Fugitive (1993)': ['Thriller', 'Crime', 'Drama'],\n",
       " 'Goodfellas (1990)': ['Crime', 'Drama', 'Biography'],\n",
       " 'Gremlins (1984)': ['Horror', 'Comedy', 'Fantasy'],\n",
       " 'House of Wax (2005)': ['Horror', 'Slasher'],\n",
       " 'The Island (2005)': ['Science Fiction', 'Action', 'Thriller'],\n",
       " 'The Last Boy Scout (1991)': ['Action', 'Thriller', 'Crime'],\n",
       " 'Lolita (1962)': ['Drama', 'Romance'],\n",
       " 'Looney Tunes: Back in Action (2003)': ['Comedy', 'Animation', 'Adventure'],\n",
       " 'The Majestic (2001)': ['Drama', 'Romance'],\n",
       " 'Mars Attacks! (1996)': ['Science Fiction', 'Comedy', 'Alien'],\n",
       " 'Michael Collins (1996)': ['Biography', 'Drama', 'Politic'],\n",
       " 'Pay it Forward (2000)': ['Drama', 'Family'],\n",
       " 'The Polar Express (2004)': ['Animation', 'Family', 'Christmas'],\n",
       " 'Rumor Has It (2005)': ['Romance', 'Comedy', 'Drama'],\n",
       " 'Scooby-Doo!: The Movie (2002)': ['Comedy', 'Family', 'Adventure'],\n",
       " 'Sudden Impact (1983)': ['Thriller', 'Crime'],\n",
       " 'Swordfish (2001)': ['Action', 'Thriller', 'Crime'],\n",
       " 'Three Kings (1999)': ['Action', 'Drama', 'Military and War'],\n",
       " 'Corpse Bride (2005)': ['Animation', 'Fantasy', 'Romance'],\n",
       " 'Unforgiven (1992)': ['Western', 'Drama'],\n",
       " 'Cobra (1986)': ['Action', 'Thriller', 'Crime'],\n",
       " 'Close Encounters of the Third Kind (1977)': ['Science Fiction',\n",
       "  'Alien',\n",
       "  'Classic'],\n",
       " 'Philadelphia (1993)': ['Drama', 'LGBTQ'],\n",
       " 'The Fisher King (1991)': ['Drama', 'Fantasy'],\n",
       " 'Gandhi (1982)': ['Biography', 'Drama', 'History'],\n",
       " 'Midnight Express (1978)': ['Drama', 'Biography', 'Crime'],\n",
       " 'The Bridge on the River Kwai (1957)': ['Military and War',\n",
       "  'Drama',\n",
       "  'Classic'],\n",
       " 'On the Waterfront (1954)': ['Drama', 'Crime', 'Classic'],\n",
       " 'From Here to Eternity (1953)': ['Drama', 'Romance', 'Military and War'],\n",
       " 'Mr. Smith Goes to Washington (1939)': ['Drama', 'Politic', 'Classic'],\n",
       " 'It Happened One Night (1934)': ['Romance', 'Comedy', 'Classic'],\n",
       " 'Once Upon a Time in Mexico (2003)': ['Action', 'Crime', 'Western'],\n",
       " 'The Missing (2003)': ['Western', 'Drama', 'Thriller'],\n",
       " 'Spider-Man (2002)': ['Action', 'Adventure', 'Superhero', 'Comic Book'],\n",
       " 'Maid in Manhattan (2002)': ['Romance', 'Comedy', 'Drama'],\n",
       " 'Thir13en Ghosts (2001)': ['Horror', 'Supernatural'],\n",
       " 'Erin Brockovich (2000)': ['Biography', 'Drama'],\n",
       " \"Charlie's Angels (2000)\": ['Action', 'Adventure', 'Comedy'],\n",
       " 'Snatch (2000)': ['Crime', 'Comedy', 'Thriller'],\n",
       " 'Almost Famous (2000)': ['Drama', 'Music', 'Biography'],\n",
       " 'The End of the Affair (1955)': ['Romance', 'Drama'],\n",
       " 'Godzilla (1998)': ['Action', 'Science Fiction', 'Monster'],\n",
       " \"The Devil's Own (1997)\": ['Drama', 'Thriller', 'Crime'],\n",
       " 'I Know What You Did Last Summer (1997)': ['Horror', 'Thriller', 'Slasher'],\n",
       " 'Matilda (1996)': ['Family', 'Fantasy', 'Comedy']}"
      ]
     },
     "execution_count": 40,
     "metadata": {},
     "output_type": "execute_result"
    }
   ],
   "source": [
    "import json\n",
    "\n",
    "json.loads(data)"
   ]
  }
 ],
 "metadata": {
  "kernelspec": {
   "display_name": "chatgpt",
   "language": "python",
   "name": "python3"
  },
  "language_info": {
   "codemirror_mode": {
    "name": "ipython",
    "version": 3
   },
   "file_extension": ".py",
   "mimetype": "text/x-python",
   "name": "python",
   "nbconvert_exporter": "python",
   "pygments_lexer": "ipython3",
   "version": "3.11.11"
  }
 },
 "nbformat": 4,
 "nbformat_minor": 2
}
